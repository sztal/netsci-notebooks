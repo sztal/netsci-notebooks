{
 "cells": [
  {
   "cell_type": "markdown",
   "id": "09837e63-92a9-4d12-81ac-ad4b3e35bfd0",
   "metadata": {},
   "source": [
    "# Introduction to networks, part I\n",
    "\n",
    "In the first part of this introductory tutorial we focus on basics of working with graphs using [`igraph` package for Python](https://python.igraph.org/en/stable/),\n",
    "which provides efficient tools for analyzing network/graph data. Unlike another popular package `networkx`, `igraph` core is implemented in C (i.e. compiled code),\n",
    "so the computations are much faster and scale very well also to large graphs.\n",
    "\n",
    "Another good and efficient network package for Python, which may be of interest, is [`graph_tool`](https://graph-tool.skewed.de/).\n",
    "It is specialized in statistical inference for networks and in particular in statistically optimal community detection. However,\n",
    "we will not discuss it here and instead just focus on `igraph`.\n",
    "\n",
    "In this part of the tutorial we will focus on basics of working with graphs, including instantiation of graph objects, manipulation of vertices and edges,\n",
    "calculating basic numerical descriptors as well as graph plotting.\n",
    "\n",
    "**NOTE.**\n",
    "\n",
    "Check [`igraph` documentation](https://python.igraph.org/en/stable/) for details not covered in this tutorial."
   ]
  },
  {
   "cell_type": "code",
   "execution_count": null,
   "id": "29e39c44-064e-4697-8d81-f9a0cc7fe609",
   "metadata": {
    "tags": []
   },
   "outputs": [],
   "source": [
    "# Load libraries\n",
    "# !pip install numpy matplotlib python-igraph>=0.10.4\n",
    "import numpy as np\n",
    "import pandas as pd\n",
    "import igraph as ig\n",
    "import matplotlib as mpl\n",
    "import matplotlib.pyplot as plt\n",
    "\n",
    "# IGraph configuration\n",
    "# Set configuration variables\n",
    "ig.config[\"plotting.backend\"] = \"matplotlib\"  # use Matplotlib as plotting backend\n",
    "ig.config[\"plotting.vertex_color\"] = \"white\"\n",
    "ig.config[\"plotting.vertex_size\"] = \"0.5\""
   ]
  },
  {
   "cell_type": "markdown",
   "id": "cf1569fd-9abb-45a5-99a6-90ece6929bd4",
   "metadata": {},
   "source": [
    "## Instatiation of graph objects\n",
    "\n",
    "### Creating graphs by hand and basics of the data model\n",
    "\n",
    "We first create a simple graph by hand. Even though typically this is not how we load graph objects to a current sesssion, it gives us a good opportunity for understanding the basic data model of `igraph`.\n",
    "\n",
    "Below we create an empty undirected graph (all links are bidirectional). We remember that the basic definition of a graph is in terms of a simple 2-tuple $G = (V, E)$ consisting\n",
    "of a set $V$ of vertices and a set $E$ of edges (links between the vertices). It captures the essense, but in practice a richer definition is used:\n",
    "\n",
    "$$\n",
    "G = (V, E, \\mathcal{M}_G, \\mathcal{M}_V, \\mathcal{M}_E)\n",
    "$$\n",
    "where $\\mathcal{M}_G, \\mathcal{M}_V, \\mathcal{M}_E$ are graph, vertex and edge metadata respectively. We will talk about vertex and edge metadata later.\n",
    "Graph metadata is just a set of arbitrary information associated with the graph $G$."
   ]
  },
  {
   "cell_type": "code",
   "execution_count": null,
   "id": "d7e110ff-8786-4145-a4ed-5a1f801646c6",
   "metadata": {
    "tags": []
   },
   "outputs": [],
   "source": [
    "# Create an empty undirected graph\n",
    "G = ig.Graph(directed=False)\n",
    "\n",
    "G.summary()\n",
    "# The summary method tells us that the graph is undirected (U) and has 0 nodes and 0 links"
   ]
  },
  {
   "cell_type": "code",
   "execution_count": null,
   "id": "a231262f-c9be-4157-a382-db4446e36b86",
   "metadata": {
    "tags": []
   },
   "outputs": [],
   "source": [
    "# We can attach arbitrary graph-level metadata\n",
    "G[\"name\"] = \"Sample graph\"\n",
    "G[\"name\"]"
   ]
  },
  {
   "cell_type": "code",
   "execution_count": null,
   "id": "4f9361fb-ac58-42fc-9ba1-43d58ae49123",
   "metadata": {
    "tags": []
   },
   "outputs": [],
   "source": [
    "# List defined graph-level attributes\n",
    "G.attributes()"
   ]
  },
  {
   "cell_type": "markdown",
   "id": "de60fc30-d5bc-4ef0-9bac-e36c217d6adf",
   "metadata": {},
   "source": [
    "### Nodes and edges\n",
    "\n",
    "Let us now add two nodes to the graph and connect them"
   ]
  },
  {
   "cell_type": "code",
   "execution_count": null,
   "id": "86a19c7e-4cf2-4c19-953f-06f5a66f78f9",
   "metadata": {
    "tags": []
   },
   "outputs": [],
   "source": [
    "# Create an empty undirected graph\n",
    "# We create it again, to allow running this code cell\n",
    "# multiple times with the same results\n",
    "G = ig.Graph(directed=False)\n",
    "\n",
    "## Add a single vertex\n",
    "G.add_vertex()\n",
    "## Add a single vertex with metadata\n",
    "G.add_vertex(label=\"some vertex\")\n",
    "\n",
    "# Vertices are added with incremental integer indices\n",
    "# So to add edge we refer to them using these numeric values\n",
    "G.add_edge(0, 1)\n",
    "\n",
    "# Plot the graph\n",
    "# We will talk about plotting later\n",
    "_ = ig.plot(G)"
   ]
  },
  {
   "cell_type": "markdown",
   "id": "80ace851-0952-46b4-8453-ad739d84c18e",
   "metadata": {},
   "source": [
    "However, very often nodes in our graphs correspond to some meaningful named entities (e.g. persons),\n",
    "so it would be nice to have some means for refering to graph vertices by name.\n",
    "\n",
    "And luckily this is possible in `igraph`.\n",
    "\n",
    "There is vertex attribute `name` which has special semantics. If it is defined, it allows referring to nodes by their names.\n",
    "To see this we define a new graph, this time directed, in which arrows denote who likes whom in some group, e.g. a class in a school.\n",
    "For simplicity it will consist of just a few students. We will add all nodes in one go (which is much more efficient than adding them one by one; do you know why?)"
   ]
  },
  {
   "cell_type": "code",
   "execution_count": null,
   "id": "8fad1af2-898c-4b76-99f6-5ec1658369c5",
   "metadata": {
    "tags": []
   },
   "outputs": [],
   "source": [
    "G = ig.Graph(directed=True)\n",
    "\n",
    "# Define students\n",
    "G.add_vertices(7, attributes={\n",
    "    \"name\": [\"Alice\", \"Bob\", \"Cedric\", \"Dora\", \"Ellie\", \"Fred\", \"Gina\"]\n",
    "})\n",
    "\n",
    "G.add_edges([\n",
    "    (\"Alice\", \"Bob\"),        # Alice likes Bob\n",
    "    (\"Alice\", \"Dora\"),       # Alice likes Dora\n",
    "    (\"Alice\", \"Ellie\"),      # Alice likes Ellie\n",
    "    (\"Alice\", \"Fred\"),       # Alice likes Fred\n",
    "    (\"Bob\", \"Alice\"),        # Bob likes Alice\n",
    "    (\"Bob\", \"Cedric\"),       # Bob likes Cedric\n",
    "    (\"Bob\", \"Fred\"),         # Bob likes Fred\n",
    "    (\"Cedric\", \"Bob\"),       # Cedric likes Bob\n",
    "    (\"Cedric\", \"Gina\"),      # Cedric likes Gina\n",
    "    (\"Dora\", \"Cedric\"),      # Dora likes Cedric\n",
    "    (\"Dora\", \"Gina\"),        # Dora likes Alice\n",
    "    (\"Ellie\", \"Alice\"),      # Ellie likes Alice\n",
    "    (\"Ellie\", \"Dora\"),       # Ellie likes Dora\n",
    "    (\"Fred\", \"Alice\"),       # Fred likes Alice\n",
    "    (\"Fred\", \"Cedric\"),      # Fred likes Cedric\n",
    "    (\"Gina\", \"Cedric\")       # Gina likes Cedric\n",
    "])\n",
    "\n",
    "_ = ig.plot(G)"
   ]
  },
  {
   "cell_type": "markdown",
   "id": "e8fb836a-b0ea-4920-9366-30eecbd2bfb7",
   "metadata": {},
   "source": [
    "That is a nice graph, but it would be better if we could see the names of the people. Without going into the details of plotting methods, a simple thing\n",
    "to do to solve this problem is just to define a new vertex attribute called `label`. It is used by default for plotting vertex names.\n",
    "\n",
    "We can define a new vertex attribute on an existing graph by assigning an item within the vertex sequence (`VertexSeq`) object of a graph (`.vs` attribute)."
   ]
  },
  {
   "cell_type": "code",
   "execution_count": null,
   "id": "b79fa5f4-d294-4168-a9f4-e52a94b47146",
   "metadata": {
    "tags": []
   },
   "outputs": [],
   "source": [
    "## Define labels (equal to names)\n",
    "G.vs[\"label\"] = G.vs[\"name\"]\n",
    "\n",
    "_ = ig.plot(G)"
   ]
  },
  {
   "cell_type": "markdown",
   "id": "20ec93de-cc65-4d08-8926-92ed759fd584",
   "metadata": {},
   "source": [
    "Similarily, edge data (including edge metadata) is stored in `EdgeSeq` object that can be accessed through `.es` attribute.\n",
    "It can be used in the same way to define edge attrbitues, but we will ignore it for now. Instead, let us just print the edge sequence\n",
    "to see all the edges defined in `G`."
   ]
  },
  {
   "cell_type": "code",
   "execution_count": null,
   "id": "9725ca0f-e9c8-410d-8c88-1f1330e2b828",
   "metadata": {
    "tags": []
   },
   "outputs": [],
   "source": [
    "G.es"
   ]
  },
  {
   "cell_type": "markdown",
   "id": "afe8ba76-94b9-45fc-aed5-b0a29a9792b6",
   "metadata": {},
   "source": [
    "Well, this is not very informative, so instead let us iterate over all edges in `G` to see that each of them has its unique integer identifies. Moreover, all edges\n",
    "know their sources (entitity sending a link) and targets (entity taking the link)."
   ]
  },
  {
   "cell_type": "code",
   "execution_count": null,
   "id": "9ec9a9d1-7c11-4227-91af-733ff427bcb6",
   "metadata": {
    "tags": []
   },
   "outputs": [],
   "source": [
    "for edge in G.es:\n",
    "    print(f\"id: {edge.index}, source: {edge.source}, target: {edge.index}\")"
   ]
  },
  {
   "cell_type": "markdown",
   "id": "ba24b0bc-7ebb-424c-80a0-441c88da4077",
   "metadata": {},
   "source": [
    "Again, this is not super informative as we still do not see any names. Edge objects store source/target information as integers corresponding to numeric vertex index values. However, we can easily use these integers to resolve names. This is possible, because we can use them to index `VertexSeq` to access the vertex objects storing all the vertex metadata and retrieve the names from there. There is also a shortcut for doing exactly that. We can use `.[target|source]_vertex` attributes to access the vertex object directly.\n",
    "\n",
    "Moreover, just for the sake of example, here we will use only edges which are mutual (i.e. two persons like each other)."
   ]
  },
  {
   "cell_type": "code",
   "execution_count": null,
   "id": "4ee515cf-2bf6-4e6d-a208-422e92c28186",
   "metadata": {
    "tags": []
   },
   "outputs": [],
   "source": [
    "for edge in G.es:\n",
    "    if edge.is_mutual(): # check if an edge is reciprocated\n",
    "        index = edge.index\n",
    "        source = edge.source_vertex[\"name\"]    # equivalent to G.vs[edge.source][\"name\"]\n",
    "        target = edge.target_vertex[\"name\"]    # equivalent to G.vs[edge.target][\"name\"]\n",
    "        print(f\"edge id: {index} | {source}->{target}\")"
   ]
  },
  {
   "cell_type": "markdown",
   "id": "68498fe7-1c0b-4932-a1fb-7ed05c0884ae",
   "metadata": {},
   "source": [
    "#### Edges in undirected graphs\n",
    "\n",
    "Now an important question is how edges work in undirected graphs. Are there two edges for each pair of connected nodes (one edge in each direction)? Or maybe just one edge per pair, but then who is the source and who is the target?\n",
    "\n",
    "To answer this question we will consider an undirected version of our class graph. We can use `.as_undirected` method to make an undirected copy of a graph."
   ]
  },
  {
   "cell_type": "code",
   "execution_count": null,
   "id": "0e90656f-e002-4e19-8c6d-b9f1b6ac435f",
   "metadata": {
    "tags": []
   },
   "outputs": [],
   "source": [
    "U = G.as_undirected()\n",
    "\n",
    "_ = ig.plot(U)  # Now it is much simpler!!"
   ]
  },
  {
   "cell_type": "markdown",
   "id": "f951caa0-d587-4180-b7a6-158941b4583a",
   "metadata": {},
   "source": [
    "Let us now iterate over edges and see their sources and targets."
   ]
  },
  {
   "cell_type": "code",
   "execution_count": null,
   "id": "8141b5ea-d384-4f74-8e62-5a420a434437",
   "metadata": {
    "tags": []
   },
   "outputs": [],
   "source": [
    "for edge in U.es:\n",
    "    print(edge.tuple)   # edge.tuple == (edge.source, edge.target)"
   ]
  },
  {
   "cell_type": "markdown",
   "id": "8d717418-2884-49aa-bcc4-fa37b0848843",
   "metadata": {},
   "source": [
    "Note that in all case the first id (source id) is lower than the second id (target id). This is by design, that is, this is how graph libraries like `igraph` typically\n",
    "define edges in undirected graph. Hence, for undirected graphs the notions of source and target are not well-defined. To access objects corresponding to vertices linked\n",
    "by an edge it is better to use `.vertex_tuple` attribute. The `.source` and `.target` attributes are still defined for undirected edges and correspond to node with lower\n",
    "and higher integer id, respectively."
   ]
  },
  {
   "cell_type": "code",
   "execution_count": null,
   "id": "64a69643-3fef-46c8-8f7e-471d134f3568",
   "metadata": {
    "tags": []
   },
   "outputs": [],
   "source": [
    "for edge in U.es:\n",
    "    print(edge.vertex_tuple)"
   ]
  },
  {
   "cell_type": "markdown",
   "id": "2c1159d2-39a1-4cae-ba45-3033041b87a0",
   "metadata": {},
   "source": [
    "## Serializing graph objects\n",
    "\n",
    "We already spent some time defining our simple graph of students, so it would be nice if we did not have to execute all the code everytime we want to use it again.\n",
    "In other words, how to save a graph object existing in the memory of our current Python process to disk for later use? This process is known as **serialization**\n",
    "(and it applies not only to graphs but virtually any kind of data).\n",
    "\n",
    "There are multiple ways in which graphs can be stored on disk. One may use the standard Python `pickle` protocol\n",
    "but this solution is specific for Python (and also trivial to implement; see [the docs](https://docs.python.org/3/library/pickle.html)),\n",
    "so we will not discuss it.\n",
    "\n",
    "### Tabular serialization with `pandas`\n",
    "\n",
    "A very generic solution is serialization based on simple tabular data. This can be handled in Python quite easily using the `pandas` package.\n",
    "The process is very simple:\n",
    "\n",
    "1. Dump a graph to a list of nodes and a list of links. Each list consist of `dict` objects storing vertex/edge metadata.\n",
    "2. Convert lists to `pandas.DataFrame` instances.\n",
    "3. Save the dataframes to disk, e.g. as CSV files."
   ]
  },
  {
   "cell_type": "code",
   "execution_count": null,
   "id": "f885ee00-e63a-468c-bcda-ce5bc97c0755",
   "metadata": {
    "tags": []
   },
   "outputs": [],
   "source": [
    "nodes, edges = G.to_dict_list()"
   ]
  },
  {
   "cell_type": "code",
   "execution_count": null,
   "id": "90d03f3f-0c10-4a9d-8583-ffd3b21ee3cf",
   "metadata": {
    "tags": []
   },
   "outputs": [],
   "source": [
    "nodes"
   ]
  },
  {
   "cell_type": "code",
   "execution_count": null,
   "id": "a0dc8f5b-0db2-4b11-9dec-fb7553f20ddb",
   "metadata": {
    "tags": []
   },
   "outputs": [],
   "source": [
    "edges"
   ]
  },
  {
   "cell_type": "markdown",
   "id": "925f7a5e-511d-4d2f-bc79-8aeb1cddd987",
   "metadata": {},
   "source": [
    "We see that metadata is retained and edges are specified based on vertex ids (so-called `vids` in `igraph` lingo).\n",
    "Sometimes we may want to refer to nodes using names, so in this case we can use.\n",
    "\n",
    "Note that below edges are defined in terms of actual vertex names."
   ]
  },
  {
   "cell_type": "code",
   "execution_count": null,
   "id": "91e50dda-872c-4357-bdb1-582240792ff7",
   "metadata": {
    "tags": []
   },
   "outputs": [],
   "source": [
    "nodes, edges = G.to_dict_list(use_vids=False)\n",
    "edges"
   ]
  },
  {
   "cell_type": "markdown",
   "id": "75780aa5-2afd-4dcb-a720-c9bd42ea0ab2",
   "metadata": {},
   "source": [
    "Now, converting a list of dictionaries with a common structure to a `pandas` data frame is super easy."
   ]
  },
  {
   "cell_type": "code",
   "execution_count": null,
   "id": "cf0e792b-e389-4036-973e-83659b172865",
   "metadata": {
    "tags": []
   },
   "outputs": [],
   "source": [
    "# Nodes data frame\n",
    "ndf = pd.DataFrame(nodes)\n",
    "\n",
    "# Save as a CSV\n",
    "ndf.to_csv(\"test-nodes.csv\", index=False)\n",
    "\n",
    "ndf"
   ]
  },
  {
   "cell_type": "code",
   "execution_count": null,
   "id": "29961752-ea51-4597-85f1-84079b2e3313",
   "metadata": {
    "tags": []
   },
   "outputs": [],
   "source": [
    "# Edges data frame\n",
    "edf = pd.DataFrame(edges)\n",
    "edf\n",
    "\n",
    "# Save as a CSV\n",
    "edf.to_csv(\"test-edges.csv\", index=False)\n",
    "\n",
    "edf"
   ]
  },
  {
   "cell_type": "markdown",
   "id": "f19d46e6-a8c4-4d66-aa50-da6769a7cc3c",
   "metadata": {},
   "source": [
    "Now we can recreate our original graph from the data saved on disk.\n",
    "To this purpose we use `igraph.Graph.DataFrame` constructor (as most non-standard constructor methods in Python it is defined as a class method of the type object)."
   ]
  },
  {
   "cell_type": "code",
   "execution_count": null,
   "id": "103d31aa-ab47-41ad-a521-f67d90c839e5",
   "metadata": {
    "tags": []
   },
   "outputs": [],
   "source": [
    "ndf = pd.read_csv(\"test-nodes.csv\")\n",
    "edf = pd.read_csv(\"test-edges.csv\")\n",
    "\n",
    "G2 = ig.Graph.DataFrame(\n",
    "    edges=edf,\n",
    "    vertices=ndf,\n",
    "    directed=True,  \n",
    "    use_vids=False  # since we want to use name-based references\n",
    ")\n",
    "_ = ig.plot(G2)"
   ]
  },
  {
   "cell_type": "code",
   "execution_count": null,
   "id": "5e6449e5-4c0b-4933-9695-79903a31738d",
   "metadata": {
    "tags": []
   },
   "outputs": [],
   "source": [
    "## NOTE.\n",
    "# Data frames can be produced in an even simpler way\n",
    "# but this does not retain metadata nor use names\n",
    "# for defining edges\n",
    "ndf = G.get_vertex_dataframe()\n",
    "edf = G.get_edge_dataframe()\n",
    "ndf, edf"
   ]
  },
  {
   "cell_type": "markdown",
   "id": "df64150f-907a-47ef-929c-c0f53735d53a",
   "metadata": {},
   "source": [
    "Last but not least, often all the important information we care about is the graph adjacency structure (i.e. who connects to whom)\n",
    "and maybe names of the nodes. In this case serialization based on the edge data frame is possible. `igraph` can deduce what is the vertex\n",
    "set from the provided list of edges.\n",
    "\n",
    "**NOTE.**\n",
    "This will work fully correctly only for graphs without isolated nodes (i.e. nodes without any connections),\n",
    "since isolated nodes - by definition - do not occur in edgelist.\n",
    "\n",
    "**NOTE.**\n",
    "Edge data frame is more often called **edgelist**."
   ]
  },
  {
   "cell_type": "code",
   "execution_count": null,
   "id": "61451178-8d76-4732-93bf-74cd9f5b3be5",
   "metadata": {
    "tags": []
   },
   "outputs": [],
   "source": [
    "_, edges = G.to_dict_list(use_vids=False)\n",
    "edf = pd.DataFrame(edges)\n",
    "G2 = ig.Graph.DataFrame(edf, use_vids=False)\n",
    "_ = ig.plot(G2)"
   ]
  },
  {
   "cell_type": "markdown",
   "id": "a94c6c81-757a-4bc4-a1e1-6cafa986d3ef",
   "metadata": {},
   "source": [
    "But note that in the above process we lost the `label` attribute, so we have to recreate it by hand."
   ]
  },
  {
   "cell_type": "code",
   "execution_count": null,
   "id": "2878e1d1-f4a2-4f28-88cc-c79d991b020e",
   "metadata": {
    "tags": []
   },
   "outputs": [],
   "source": [
    "G2.vs[\"label\"] = G2.vs[\"name\"]\n",
    "_ = ig.plot(G2)"
   ]
  },
  {
   "cell_type": "markdown",
   "id": "501aeda7-01be-477f-be63-a3ca68389599",
   "metadata": {},
   "source": [
    "### Serialization using `GraphML` format\n",
    "\n",
    "`GraphML` is a popular format for graph-data supporting rich metadata annotations (it is based on the standard `XML` data format). \n",
    "Thus, it can handle easily most of the practically important cases. Moreover, `igraph` allows for easy reading and writing `gzip` compressed\n",
    "`.graphml` files, which is particularily convenient when working with large graph objects.\n",
    "\n",
    "This approach is much more convenient than tabular serialization, since it allows for moving a graph around using only a single file\n",
    "than can be loaded into memory directly as `igraph.Graph` object using a single method call. Let us now see how it works.\n",
    "\n",
    "Since it is usually a good practice to compress your data files, we will use the compressed variants of the `GraphML` methods.\n",
    "They can be recognized by the `z` suffix. Uncompressed methods have the same names, but without the suffix."
   ]
  },
  {
   "cell_type": "code",
   "execution_count": null,
   "id": "94ff023f-3918-43ff-ac61-3b85307daf95",
   "metadata": {
    "tags": []
   },
   "outputs": [],
   "source": [
    "G.write_graphmlz(\"students.graphml.gz\")\n",
    "G2 = ig.Graph.Read_GraphMLz(\"students.graphml.gz\")\n",
    "\n",
    "_ = ig.plot(G2)"
   ]
  },
  {
   "cell_type": "markdown",
   "id": "5b432ef0-c2eb-419c-ae9e-7c580522c4e9",
   "metadata": {},
   "source": [
    "### Excercise 1.\n",
    "\n",
    "Here is a simple sociogram (a name often used to visual representations of social networks).\n",
    "Build an `igraph` object representing this network and save it as a `.graphml` file (compressed or not).\n",
    "Load the saved file into memory and plot it to see whether it correctly represents the given sociogram.\n",
    "\n",
    "![simple sociogram](https://www.researchgate.net/publication/215612930/figure/fig1/AS:670017007931411@1536755911936/An-example-of-a-simple-social-network.ppm)\n",
    "\n",
    "Do the above for the two following cases.\n",
    "\n",
    "1. Create an undirected graph (sociogram has no directed arrows, so it is undirected).\n",
    "2. Create a directed graph. You are free to choose whatever edge directions you prefer."
   ]
  },
  {
   "cell_type": "markdown",
   "id": "dec53c95-aff9-4c29-ad97-ce87f627703e",
   "metadata": {},
   "source": [
    "## Manipulating graphs\n",
    "\n",
    "We now know the basics of how networks are represented and stored (in memory and on disk) in `igraph`. Thus, we are ready to learn more about how to manipulate, transform and query networks once we have them loaded in our Python process."
   ]
  },
  {
   "cell_type": "code",
   "execution_count": null,
   "id": "d3d9dd0c-b300-420c-9cfd-dd487c237c7b",
   "metadata": {
    "tags": []
   },
   "outputs": [],
   "source": [
    "_ = ig.plot(G)"
   ]
  },
  {
   "cell_type": "markdown",
   "id": "5954ab19-cd3a-447c-95ec-b8c05942fb3c",
   "metadata": {},
   "source": [
    "### Selecting vertices and induced subgraphs\n",
    "\n",
    "Very often we may be interested only in a particular subset of vertices and a **subgraph induced by this selection**.\n",
    "An induced subgraph is a graph consisting of a subset of $V$ and all links between the selected nodes.\n",
    "\n",
    "Below we first select only Gina, Dora, Cedric and Bob and then find the corresponding induced subgraph.\n",
    "Our main trick will be `.select` method of `VertexSeq` class.\n",
    "\n",
    "We do not have time to study the `.select` method in detail, but it can be very convenient and powerful,\n",
    "so it is recommended take a look at its documentation: `igraph.VertexSeq.select?`."
   ]
  },
  {
   "cell_type": "code",
   "execution_count": null,
   "id": "d68c18c7-f42a-4027-9a36-a32f551f25e1",
   "metadata": {
    "tags": []
   },
   "outputs": [],
   "source": [
    "names = [\"Gina\", \"Dora\", \"Cedric\", \"Bob\"]\n",
    "\n",
    "vertices = G.vs.select(name_in=names)\n",
    "# Note that '_in' suffix means that we look for\n",
    "# vertices with 'name' attribute values contained in a given list\n",
    "\n",
    "# We check that the number of selected persons is correct\n",
    "len(vertices)"
   ]
  },
  {
   "cell_type": "code",
   "execution_count": null,
   "id": "c0e125b6-c234-4dfc-9db9-bbe53f234a94",
   "metadata": {
    "tags": []
   },
   "outputs": [],
   "source": [
    "sub = G.subgraph(vertices)\n",
    "_ = ig.plot(sub)"
   ]
  },
  {
   "cell_type": "markdown",
   "id": "fb09333c-83c1-4e56-9a7c-60a7064f4205",
   "metadata": {},
   "source": [
    "## Selecting edges\n",
    "\n",
    "Similarily, we can select edges. After that we can look for an edge subgraph induced by our selection. In this case there are two options.\n",
    "\n",
    "1. Graph with selected edges and all vertices\n",
    "2. Graph with selected edges and only vertices connected by them\n",
    "\n",
    "As previously, we use `.select` method, but this time of course the variant defined on `EdgeSeq` class.\n",
    "Here we will select only edges pointing to Cedric (so we want to find students who like Cedric)."
   ]
  },
  {
   "cell_type": "code",
   "execution_count": null,
   "id": "910b7ee1-a492-4f60-96fc-478a68ca6922",
   "metadata": {
    "tags": []
   },
   "outputs": [],
   "source": [
    "# First we translate names to vertex ids\n",
    "vids = G.vs.select(name=\"Cedric\").indices\n",
    "edges = G.es.select(_target_in=vids)\n",
    "\n",
    "fig, axes = plt.subplots(ncols=2, figsize=(10, 20))\n",
    "\n",
    "for ax, delete in zip(axes.flat, [False, True]):\n",
    "    sub = G.subgraph_edges(edges, delete_vertices=delete)\n",
    "    ig.plot(sub, target=ax)\n",
    "    ax.set_title(f\"delete_vertices={delete}\")"
   ]
  },
  {
   "cell_type": "markdown",
   "id": "fd451d2e-8f22-4d00-a1f9-d9a5b965fb07",
   "metadata": {},
   "source": [
    "### Removing nodes and edges\n",
    "\n",
    "We already know how to add nodes and edges. But sometimes we also may need to remove them, for instance while modeling an evolution\n",
    "of a network.\n",
    "\n",
    "Let us say that something unpleasant happened and Dora does not like Cedric anymore. How can we reflect that?\n",
    "\n",
    "The most convenient approach is to use `.select` method again followed by `.delete` method.\n",
    "\n",
    "**NOTE.**\n",
    "\n",
    "There are `.remove_edges` and `.remove_vertices` methods defined on graph objects, and it is worthwhile to look at them.\n",
    "However, `.select` approach is typically more convenient, so we focus on it."
   ]
  },
  {
   "cell_type": "code",
   "execution_count": null,
   "id": "638c65d4-3791-4b2c-b35d-12a2c2e15ca7",
   "metadata": {
    "tags": []
   },
   "outputs": [],
   "source": [
    "U = G.copy()\n",
    "\n",
    "source_id = G.vs.select(name=\"Dora\").indices[0]\n",
    "target_id = G.vs.select(name=\"Cedric\").indices[0]\n",
    "\n",
    "U.es.select(_source=source_id, _target=target_id).delete()\n",
    "\n",
    "_ = ig.plot(U)"
   ]
  },
  {
   "cell_type": "markdown",
   "id": "4917cedf-09f0-4c5c-a959-2882a70b9479",
   "metadata": {},
   "source": [
    "### Exercise 2.\n",
    "\n",
    "Use an analogous strategy to define (and plot) the class graph without Cedric and Dora."
   ]
  },
  {
   "cell_type": "code",
   "execution_count": null,
   "id": "94b2a5ee-0dcb-482d-8549-40aecdc68368",
   "metadata": {},
   "outputs": [],
   "source": []
  },
  {
   "cell_type": "markdown",
   "id": "c2d26ac6-4c64-40a0-9aab-f633d2e167ad",
   "metadata": {},
   "source": [
    "## Basic graph descriptors\n",
    "\n",
    "Here we go through a brief overview of basic graph descriptors.\n",
    "We focus only on a few most important examples per category\n",
    "(as there are really dozens of different descriptors for any occasion one can find in the literature).\n",
    "\n",
    "### Global descriptors"
   ]
  },
  {
   "cell_type": "code",
   "execution_count": null,
   "id": "00ffc8e6-d168-44c1-84f5-0d820af2aea1",
   "metadata": {
    "tags": []
   },
   "outputs": [],
   "source": [
    "(\n",
    "    G.vcount(),                   # Number of nodes\n",
    "    G.ecount(),                   # Number of edges\n",
    "    G.density(),                  # Edge density\n",
    "    G.transitivity_undirected()   # clustering/trasitivity coefficient\n",
    ")"
   ]
  },
  {
   "cell_type": "markdown",
   "id": "436dfe5a-e1d1-4594-8a62-09f4efe825d2",
   "metadata": {},
   "source": [
    "#### Exercise 3.\n",
    "\n",
    "Calculate edge density of the class graph using only `.vcount()` and `.ecount()` methods.\n",
    "\n",
    "#### Question\n",
    "\n",
    "Look at the density and transitivity (undirected) of the graph. What the values seem to suggest?"
   ]
  },
  {
   "cell_type": "markdown",
   "id": "ca1f9015-0484-452b-9447-bd91a65b2f9b",
   "metadata": {},
   "source": [
    "### Node and edge descriptors\n",
    "\n",
    "They can be roughly divided into two main families:\n",
    "\n",
    "1. **Centrality measures.** They are aimed at capturing the importance of a given node/edge for the global structure of the network (in some particular sense).\n",
    "2. **Local structure measures.** They are aimed at capturing some structural properties of a local subgraph around a given node/edge.\n",
    "\n",
    "Moreover, all descriptors can be organized in hierarchy based on how much structural information one need to compute them.\n",
    "\n",
    "* **1st order.** Descriptors of which values depend only on the properties of a given node/edge. No knowledge of properties of neighbors is needed.\n",
    "* **2nd order.** Descriptors that depends also on properties of neighbors.\n",
    "* **3rd order.** As above + properties of the neighbors of neighbors (2nd order neighbors).\n",
    "* And so on.\n",
    "* **Global.** Descriptors depending on the full knowledge of the entire network.\n",
    "\n",
    "\n",
    "We will now try to understand the above classification based on three different measures."
   ]
  },
  {
   "cell_type": "markdown",
   "id": "ee5d348f-6638-4414-bacc-f91a15006996",
   "metadata": {},
   "source": [
    "#### Node degree\n",
    "\n",
    "This is the most basic but also most fundamental centrality measure. Node degree is just the number of connections a node has.\n",
    "In directed networks we distinguish also out-degrees (number outgoing links) and in-degrees (number of incoming links).\n",
    "\n",
    "In social networks, in-degrees are often interpreted in terms of popularity and out-degrees in terms of sociability."
   ]
  },
  {
   "cell_type": "code",
   "execution_count": null,
   "id": "4ce9d43b-5c0d-428b-8e1a-80d5b177c0d1",
   "metadata": {
    "tags": []
   },
   "outputs": [],
   "source": [
    "_ = ig.plot(G)\n",
    "\n",
    "pd.DataFrame({\n",
    "    \"name\": G.vs[\"name\"],\n",
    "    \"degree\": G.degree(mode=\"all\"),\n",
    "    \"indegree\": G.degree(mode=\"in\"),\n",
    "    \"outdegree\": G.degree(mode=\"out\")\n",
    "})\n"
   ]
  },
  {
   "cell_type": "markdown",
   "id": "ed10e69f-8805-4d4e-a909-af4a2ace4ed2",
   "metadata": {},
   "source": [
    "##### Question\n",
    "\n",
    "Where in the classification does node degree as a descriptor fit in?\n",
    "\n",
    "####"
   ]
  },
  {
   "cell_type": "markdown",
   "id": "37abff9f-bc36-47ea-bb0c-c6d1ed619183",
   "metadata": {},
   "source": [
    "##### Adjacency matrices, random walks and node degree as a centrality measure \n",
    "\n",
    "To better understand why node degree is a centrality measure we first review the notion of **adjacency matrix**.\n",
    "It is a matrix such that $A_{ij} = 1$ if $i \\to j$ or $A_{ij} = 0$ otherwise (some times the oppositve convention $j \\to i$ is used, but `igraph` follows the first one)."
   ]
  },
  {
   "cell_type": "code",
   "execution_count": null,
   "id": "b26f9980-d6f4-4cfb-af7a-6260be88477b",
   "metadata": {
    "tags": []
   },
   "outputs": [],
   "source": [
    "_ = ig.plot(G)\n",
    "\n",
    "A = np.array(list(G.get_adjacency()))\n",
    "A"
   ]
  },
  {
   "cell_type": "markdown",
   "id": "b3a54d82-a507-4ea7-9a32-7d2d820a28fa",
   "metadata": {},
   "source": [
    "Importantly, here row sums of $A$ give out-degrees and column sums give in-degrees. Let us check this."
   ]
  },
  {
   "cell_type": "code",
   "execution_count": null,
   "id": "3d5f110b-1581-491a-a074-01b1017e24fb",
   "metadata": {
    "tags": []
   },
   "outputs": [],
   "source": [
    "A.sum(axis=0) == G.degree(mode=\"in\")"
   ]
  },
  {
   "cell_type": "code",
   "execution_count": null,
   "id": "02996894-dc8d-4b48-97b8-3dc76034dbb8",
   "metadata": {
    "tags": []
   },
   "outputs": [],
   "source": [
    "A.sum(axis=1) == G.degree(mode=\"out\")"
   ]
  },
  {
   "cell_type": "markdown",
   "id": "af98b430-80c9-419a-95ec-582b880d0d67",
   "metadata": {},
   "source": [
    "Note also that the sums of in- and out-degrees are always equal.\n",
    "\n",
    "**Question.**\n",
    "\n",
    "Can you explain why?"
   ]
  },
  {
   "cell_type": "code",
   "execution_count": null,
   "id": "21d15cac-d0ca-4977-8136-e66f67dcb460",
   "metadata": {
    "tags": []
   },
   "outputs": [],
   "source": [
    "sum(G.degree(mode=\"in\")) == sum(G.degree(mode=\"out\"))"
   ]
  },
  {
   "cell_type": "markdown",
   "id": "e8b8407a-f22d-411d-91c6-ab9d57b7c8d4",
   "metadata": {},
   "source": [
    "Now let us consider another important notion of a random walk. It is a simple process in which we start from a node and then\n",
    "travel across a network by jumping to randomly selected adjacent node at each time step.\n",
    "\n",
    "It is very easy to simulate in `igraph`. Below we visualize the process with a simple simulation, which may be interpreted, for instance,\n",
    "as a depiction of how a secret note may travel from student to student during a class. We show 5 time steps starting from a randomly\n",
    "selected node."
   ]
  },
  {
   "cell_type": "code",
   "execution_count": null,
   "id": "ce437239",
   "metadata": {
    "tags": []
   },
   "outputs": [],
   "source": [
    "n_steps = 5\n",
    "start = np.random.randint(0, G.vcount())\n",
    "fig, axes = plt.subplots(ncols=n_steps, figsize=(20, 20))\n",
    "\n",
    "for ax, vid in zip(axes.flat, G.random_walk(start=start, steps=5)):\n",
    "    colors = np.where(np.array(G.vs.indices) == vid, \"red\", \"white\")\n",
    "    ig.plot(G, vertex_color=colors, target=ax)"
   ]
  },
  {
   "cell_type": "markdown",
   "id": "32703647-a090-4b98-971c-35eaec8b66ef",
   "metadata": {},
   "source": [
    "Now, when we consider random walks of length just $1$ starting from a randomly selected node\n",
    "(with selection probabilities proportional to nodes' out-degrees), \n",
    "then the probability distribution over the terminal nodes will converge to values proportional to node in-degrees.\n",
    "\n",
    "**Question.** Can you explain why? Try to prove it (it is simple!)\n",
    "\n",
    "Anyways, let us see this."
   ]
  },
  {
   "cell_type": "code",
   "execution_count": null,
   "id": "e99a3485-6b03-49d1-801d-83bedfcadad9",
   "metadata": {
    "tags": []
   },
   "outputs": [],
   "source": [
    "n_rep = 100000\n",
    "\n",
    "outdegseq = np.array(G.degree(mode=\"out\"))\n",
    "start = np.random.choice(G.vcount(), size=n_rep, p=outdegseq/outdegseq.sum())\n",
    "terminal = np.empty(n_rep, dtype=int)\n",
    "\n",
    "for i, vid in enumerate(start):\n",
    "    terminal[i] = G.random_walk(vid, steps=1)[-1]\n",
    "\n",
    "visits = pd.Series(terminal) \\\n",
    "    .value_counts() \\\n",
    "    .reindex(range(G.vcount())) \\\n",
    "    .fillna(0) \\\n",
    "    .astype(int)\n",
    "\n",
    "data = pd.DataFrame({\n",
    "    \"indegree\": G.degree(mode=\"in\"),\n",
    "    \"visits\": visits \n",
    "})\n",
    "\n",
    "fig, ax = plt.subplots()\n",
    "\n",
    "ax.scatter(data[\"indegree\"], data[\"visits\"])\n",
    "ax.xaxis.set_major_locator(mpl.ticker.MaxNLocator(integer=True))\n",
    "ax.set_xlabel(\"Node in-degree\")\n",
    "ax.set_ylabel(\"Number of visits\")\n",
    "\n",
    "print(rf\"Pearson r: {data.corr().iloc[0, 1]:.3f}\")"
   ]
  },
  {
   "cell_type": "markdown",
   "id": "83e8fabc-c061-439f-b77f-b65cb3d81762",
   "metadata": {},
   "source": [
    "#### Local clustering\n",
    "\n",
    "A different sort of measure is local clustering coefficient. It is not a centrality measure but instead a measure of\n",
    "local structure. It is applicable primarily to undirected graphs (although generalizations exist) and defined\n",
    "as the ratio of triangles to the maximum possible number of triangles a given node can belong to.\n",
    "\n",
    "$$\n",
    "c_i = \\frac{T_i}{d_i(d_i-1)}\n",
    "$$\n",
    "\n",
    "**Question.** Can you explain why the above formula makes sense?\n",
    "\n",
    "Below we consider the undirected counterpart of our class graph."
   ]
  },
  {
   "cell_type": "code",
   "execution_count": null,
   "id": "7d159d7f-5cdd-438e-a65a-f85853acc40c",
   "metadata": {},
   "outputs": [],
   "source": [
    "U = G.as_undirected()\n",
    "_ = ig.plot(U)"
   ]
  },
  {
   "cell_type": "markdown",
   "id": "3bd7548a-37e8-4b6a-b751-8d462541f22c",
   "metadata": {},
   "source": [
    "We can relate the osberved values of the local clustering coefficient to node degrees and see that local clustering\n",
    "tend to decrease with node degree."
   ]
  },
  {
   "cell_type": "code",
   "execution_count": null,
   "id": "0f2a0ac6-b38f-4cee-9128-6e670c080e28",
   "metadata": {
    "tags": []
   },
   "outputs": [],
   "source": [
    "pd.DataFrame({\n",
    "    \"degree\": U.degree(),\n",
    "    \"clutsering\": U.transitivity_local_undirected()\n",
    "}).sort_values(\"degree\")"
   ]
  },
  {
   "cell_type": "markdown",
   "id": "b8c54239-2f62-43f0-9483-d0031d5d8705",
   "metadata": {},
   "source": [
    "This is a very general result that applies to a wide range of situations and graph models.\n",
    "\n",
    "**Question.**\n",
    "\n",
    "Do you have any intuition for why this is a case? \n",
    "Focus on the denominator in the formula and consider what happens when the degree of the focal node $i$ is high relative to the degrees\n",
    "of its neighbors."
   ]
  },
  {
   "cell_type": "markdown",
   "id": "5a89956f-b05f-4f73-a94e-9293b8cee734",
   "metadata": {},
   "source": [
    "##### Cliques, motifs and ego-graphs\n",
    "\n",
    "To understand the structural meaning local clustering coefficient let us now consider important notions of cliques and motifs.\n",
    "A clique is a fully-connected subgraph, i.e. a subgraph in which every node is linked to every other node.\n",
    "A triangle is the smallest (non-trivial) clique composed of just three nodes.\n",
    "\n",
    "So one interpretation of the local clustering coefficient is in terms of the _cliqueness_ of the neighbourhood of a given node.\n",
    "\n",
    "We can gain a fuller understanding of this by considering the notion of ego-graph, which is a subgraph including a focal node $i$\n",
    "and its neighbors.\n",
    "\n",
    "Below we plot ego-graphs of all students."
   ]
  },
  {
   "cell_type": "code",
   "execution_count": null,
   "id": "b745a4ab-6d5f-4c9a-8273-47046a824a57",
   "metadata": {
    "tags": []
   },
   "outputs": [],
   "source": [
    "fig, axes = plt.subplots(nrows=2, ncols=4, figsize=(20, 10))\n",
    "# Make last axis object empty\n",
    "axes.flatten()[-1].axis(\"off\")\n",
    "\n",
    "for ax, vertex in zip(axes.flat, G.vs):\n",
    "    # Get list of nodes a hop-distances from 0 to 1 (self and direct neighbors)\n",
    "    neigh = U.neighborhood(vertex, order=1, mindist=0)\n",
    "    sub = U.subgraph(neigh)\n",
    "    colors = np.where([ i == vertex.index for i in sorted(neigh) ], \"red\", \"white\")\n",
    "    ig.plot(sub, vertex_color=colors, target=ax)"
   ]
  },
  {
   "cell_type": "markdown",
   "id": "13dd9739-213a-46c2-b37f-f0444bdd25aa",
   "metadata": {},
   "source": [
    "**Question.**\n",
    "\n",
    "Just by looking at the examples, who have the highest and lowest clustering?"
   ]
  },
  {
   "cell_type": "markdown",
   "id": "96f4219c-581f-4308-853c-2a1dc2c5d325",
   "metadata": {},
   "source": [
    "We can enumerate all triangles easily using `.cliques` method."
   ]
  },
  {
   "cell_type": "code",
   "execution_count": null,
   "id": "fbb39c2c-7172-4083-a1c7-a7c730eb0f79",
   "metadata": {
    "tags": []
   },
   "outputs": [],
   "source": [
    "for clique in U.cliques(min=3, max=3):\n",
    "    names = [ G.vs[\"name\"][i] for i in clique ]\n",
    "    text = \", \".join(names)\n",
    "    print(text)"
   ]
  },
  {
   "cell_type": "markdown",
   "id": "b8f03524-2738-461f-9b08-15df0313bbbd",
   "metadata": {},
   "source": [
    "**Question.**\n",
    "\n",
    "According to our classification, what is the **order** of the local clustering coefficient?"
   ]
  },
  {
   "cell_type": "markdown",
   "id": "70bd0d92-3388-455c-adaf-27afb67a39c3",
   "metadata": {},
   "source": [
    "#### Betweenness\n",
    "\n",
    "The last measure we consider here is betweenness. It is a global type measure, which can be calculated both for nodes and egdes,\n",
    "but here we will focus on **edge betweenness**.\n",
    "\n",
    "Without going into too much technical details, it measures how much of the shortest paths between nodes in a graph travels\n",
    "through a given node or edge. Thus, it is a very good measure of the importance of a given element for the global connectedness\n",
    "of a network. However, this comes at a price of being quite computationally expensive (because the measure is global).\n",
    "\n",
    "We will illustrate it meaning using one of the most famous network datasets of all times: [Zachary's Karate Club](https://en.wikipedia.org/wiki/Zachary%27s_karate_club).\n",
    "\n",
    "Below we plot the graph with edges colored according to the level of their betwenness."
   ]
  },
  {
   "cell_type": "code",
   "execution_count": null,
   "id": "a75c6ac8-67d3-47a4-b6fc-79a0660f7fbc",
   "metadata": {
    "tags": []
   },
   "outputs": [],
   "source": [
    "G = ig.Graph.Famous(\"Zachary\")\n",
    "# For coloring we map betweenness values to integers from 0 to 255\n",
    "# To make differences more pronounced we use square of the betweenness\n",
    "bet = np.array(G.edge_betweenness())\n",
    "ecolors = [ int(x) for x in ((bet / bet.max())*255) ]\n",
    "palette = ig.drawing.colors.AdvancedGradientPalette([\"white\", \"red\"], n=256)\n",
    "\n",
    "style = dict(edge_width=5, palette=palette)\n",
    "\n",
    "fig, ax = plt.subplots(figsize=(12, 12))\n",
    "_ = ig.plot(G, target=ax, edge_color=ecolors, **style)"
   ]
  },
  {
   "cell_type": "markdown",
   "id": "70711f4b-5df7-474c-b02c-126c1ea4d58d",
   "metadata": {},
   "source": [
    "We can now try to use edge betweenness to partition the graph into two main groups. The logic of this process is simple.\n",
    "\n",
    "1. Find the edge with the highest betweenness and remove it.\n",
    "2. Check if the graph has been decomposed into two disconnected clusters.\n",
    "3. If not, recalculcate betweenness scores and repeat."
   ]
  },
  {
   "cell_type": "code",
   "execution_count": null,
   "id": "b10abee6-1fd1-4542-a007-740591110625",
   "metadata": {
    "tags": []
   },
   "outputs": [],
   "source": [
    "# Copy the graph\n",
    "U = G.copy()\n",
    "\n",
    "while U.is_connected():\n",
    "    bet = U.edge_betweenness()\n",
    "    idxmax = bet.index(max(bet))\n",
    "    U.delete_edges([idxmax])\n",
    "\n",
    "for idx, component in enumerate(U.components()):\n",
    "    # Assign cluster memberships on the original graph\n",
    "    G.vs.select(component)[\"cluster\"] = idx\n",
    "\n",
    "# Now we define `VertexClustering` objects on the original graph\n",
    "# based on the disconnected components our process produced\n",
    "clustering = ig.VertexClustering(G, G.vs[\"cluster\"])\n",
    "\n",
    "fig, ax = plt.subplots(figsize=(12, 12))\n",
    "_ = ig.plot(clustering, target=ax, edge_width=5)"
   ]
  },
  {
   "cell_type": "markdown",
   "id": "18da54ce-ff1d-4186-b32d-2ddea1eeaa8a",
   "metadata": {},
   "source": [
    "## Brief overview of plotting\n",
    "\n",
    "Here we discuss, very briefly, the plotting capabilities of `igraph`. It is quite versatile in this respect as it can be used to draw graphs\n",
    "using multiple plotting backends such [Cairo](https://www.cairographics.org/), [plotly](https://plotly.com/) and [matplotlib](https://matplotlib.org/).\n",
    "Here we will focus exclusively on the **matplotlib backend**, as matplotlib is the de facto standard for scientific visualizations with Python.\n",
    "It is very powerful and flexible, even if not very user-friendly.\n",
    "\n",
    "### Configuration\n",
    "\n",
    "It is most convenient to use `igraph` configuration to specify default plotting options. This is what we did in the very beginning of this notebook.\n",
    "Below we do this once again as a reminder. You can read more about `igraph` config features in [the docs](https://python.igraph.org/en/stable/configuration.html)."
   ]
  },
  {
   "cell_type": "code",
   "execution_count": null,
   "id": "2b5ea7b3-26c3-47cb-84f2-0ba47bc54bbe",
   "metadata": {
    "tags": []
   },
   "outputs": [],
   "source": [
    "# Set configuration variables\n",
    "ig.config[\"plotting.backend\"] = \"matplotlib\"  # use Matplotlib as plotting backend\n",
    "ig.config[\"plotting.vertex_color\"] = \"white\"\n",
    "ig.config[\"plotting.vertex_size\"] = \"0.5\"\n",
    "ig.config[\"plotting.edge_width\"] = \"5\""
   ]
  },
  {
   "cell_type": "markdown",
   "id": "cf646f6c-035d-4e21-93d5-7ac6bee5369f",
   "metadata": {},
   "source": [
    "Now we will use the Karate Club network again and produce a slightly more fany visualization than before.\n",
    "We will **community detection** (which we will discuss later) to find the main groups, mark the groups with convex hull markers,\n",
    "scale vertex sizes according to vertex degree and color edges by betweenness while also producing a legible colorbar explaining\n",
    "the mapping between colors and values.\n",
    "\n",
    "Through this process we will learn most importants techniques and tricks for visualizing graphs."
   ]
  },
  {
   "cell_type": "code",
   "execution_count": null,
   "id": "fb88f3d5-c51e-4cad-937a-5d97491566b4",
   "metadata": {
    "tags": []
   },
   "outputs": [],
   "source": [
    "G = ig.Graph.Famous(\"Zachary\")\n",
    "## Find 'communities'\n",
    "## Here we call an algorithm which is just a fancier version of what we did previously\n",
    "comm = G.community_edge_betweenness(clusters=2)\n",
    "comm\n",
    "\n",
    "## Degree sequence (as Numpy array)\n",
    "degseq = np.array(G.degree())\n",
    "## Save node degree as attributes\n",
    "## This will be useful for defining drawing order\n",
    "## So smaller nodes are drawn on top of larger nodes\n",
    "G.vs[\"degree\"] = degseq"
   ]
  },
  {
   "cell_type": "markdown",
   "id": "a39a7f2d-8ed9-435b-bf00-7226eeb56890",
   "metadata": {},
   "source": [
    "We specified `ig.config[\"plotting.backend\"] = \"matplotlib\"` option, which means we do not have to provide `igraph` we `matplotlib`\n",
    "figure and axes objects explicitly to draw a graph. However, it is very often convenient to do so anyway, as this way we can more\n",
    "easily leverage advanced functionalities of `matplotlib` such as drawing figures with multiple panels. In order to illustrate this,\n",
    "we will draw the graph together with a histogram of its degree distribution."
   ]
  },
  {
   "cell_type": "code",
   "execution_count": null,
   "id": "37b9ba69-4603-4706-908f-c9d66bf76c47",
   "metadata": {
    "tags": []
   },
   "outputs": [],
   "source": [
    "# '.as_clustering()' method transform community detection result\n",
    "# into an object representing graph clustering which can be used for plotting\n",
    "clustering = comm.as_clustering()\n",
    "\n",
    "# Calculate edge betweenness and define color palette for \n",
    "bet = np.array(G.edge_betweenness())\n",
    "\n",
    "# Define vertex drawing options\n",
    "# We keep them in a separate dict to make it easy to modify and redraw\n",
    "# the plot multiple times\n",
    "vertex_opts = {\n",
    "    \"vertex_size\":  np.sqrt(degseq/degseq.max()),   # set vertex sizes proportional to the square root of degree\n",
    "    \"vertex_color\": np.where(                       # assign vertex colors according to cluster membership\n",
    "        [ i == 0 for i in clustering.membership ], \"lightblue\", \"indianred\"\n",
    "    ),\n",
    "    \"vertex_order_by\": (\"degree\", \"desc\"),         # draw nodes with large degrees first (descending order according 'degree' attribute that we set earlier)\n",
    "}\n",
    "\n",
    "# Define edge drawing options\n",
    "# Again, as a separate dict for the same reasons\n",
    "cmap = mpl.cm.YlOrRd\n",
    "edge_opts = {\n",
    "    \"edge_color\": [ cmap(int(b*255)) for b in bet/bet.max() ],\n",
    "}\n",
    "\n",
    "# Define options for marking groups\n",
    "groups_opts = {\n",
    "    \"mark_groups\": { tuple(c): \"gray55\" for c in clustering }\n",
    "}\n",
    "\n",
    "fig, axes = plt.subplot_mosaic(\"AAB\", figsize=(20, 8))\n",
    "_ = ig.plot(G, target=axes[\"A\"], **vertex_opts, **edge_opts, **groups_opts)\n",
    "\n",
    "# Draw histogram of degree distribution in the second panel\n",
    "ax = axes[\"B\"]\n",
    "ax.hist(degseq, edgecolor=\"black\", color=\"lightblue\")\n",
    "ax.set_xlabel(\"Node degree\", fontsize=16)\n",
    "_ = ax.set_ylabel(\"Count\", fontsize=16)"
   ]
  },
  {
   "cell_type": "markdown",
   "id": "e546104f-0cb6-417a-97a5-be27c9cfeb77",
   "metadata": {},
   "source": [
    "That is nice, but it would be even better to have a colorbar explaining how edge between is mapped to colors.\n",
    "We add it below."
   ]
  },
  {
   "cell_type": "code",
   "execution_count": null,
   "id": "0a52e2c6-0ee6-4079-b2b0-b146ccb81968",
   "metadata": {
    "tags": []
   },
   "outputs": [],
   "source": [
    "# Import some extra Matplotlib magic for positioning colorbar\n",
    "from mpl_toolkits.axes_grid1 import make_axes_locatable\n",
    "\n",
    "ax=axes[\"A\"]\n",
    "# create an Axes on the right side of ax. The width of cax will be 5%\n",
    "# of ax and the padding between cax and ax will be fixed at 0.05 inch.\n",
    "divider = make_axes_locatable(ax)\n",
    "cax = divider.append_axes(\"left\", size=\"5%\", pad=0.05)\n",
    "fig.colorbar(mpl.cm.ScalarMappable(cmap=cmap), cax=cax)\n",
    "cax.set_ylabel(\"Edge betweenness\", fontsize=16)\n",
    "cax.yaxis.set_label_position(\"left\")\n",
    "cax.yaxis.set_ticks_position(\"left\")\n",
    "fig"
   ]
  },
  {
   "cell_type": "markdown",
   "id": "f071769e-a90e-4853-a874-e33a7117173e",
   "metadata": {},
   "source": [
    "### Layout\n",
    "\n",
    "We managed to produce a relatively nice figure. However, there is a lot of unused space on the right side of the left panel.\n",
    "Can we do something about it? Probably it would make sense to rotate the graph 90 degrees clockwise.\n",
    "To do this we need to understand how `igraph` actually draws graphs.\n",
    "\n",
    "Graphs are usually drawn by mapping nodes to positions in (usually 2D) Euclidean space. This can be achieved in many ways,\n",
    "but the typical logic most of drawing algorithms follow assumes that connected nodes should be close to each other,\n",
    "unconnected far away, and links should not cross as much as possible (this condition is realizable for all pairs of edges only for so-called planar graphs).\n",
    "\n",
    "`igraph` implements many layout algorithms targeting different usecases and we will not review them here (but check the official documentation).\n",
    "Instead, we will use just one, which typically works very well, and focus on how to work with `Layout` objects `igraph` more generally.\n",
    "\n",
    "So, we will now compute Kamada-Kawai layout for our graph.\n",
    "Kamada-Kawai is very effective algorithm based on physical principles, which models the graph as a system of masses connected by springs.\n",
    "\n",
    "**NOTE.**\n",
    "\n",
    "Kamada-Kawai is used by default by the latest version of `igraph`, but this may change in the future."
   ]
  },
  {
   "cell_type": "code",
   "execution_count": null,
   "id": "1789310e-d649-4c3e-981f-6bcf4108270d",
   "metadata": {
    "tags": []
   },
   "outputs": [],
   "source": [
    "# Calculate Kamada-Kawai layout\n",
    "layout = G.layout_kamada_kawai()\n",
    "# Rotate the layout by 90 degrees\n",
    "layout.rotate(90)\n",
    "\n",
    "# Draw the plot again\n",
    "fig, axes = plt.subplot_mosaic(\"AAB\", figsize=(20, 8))\n",
    "_ = ig.plot(\n",
    "    G, target=axes[\"A\"], layout=layout,          # NOTE. We now specify the layout explictly\n",
    "    **vertex_opts, **edge_opts, **groups_opts\n",
    ")\n",
    "\n",
    "# Draw histogram of degree distribution in the second panel\n",
    "ax = axes[\"B\"]\n",
    "ax.hist(degseq, edgecolor=\"black\", color=\"lightblue\")\n",
    "ax.set_xlabel(\"Node degree\", fontsize=16)\n",
    "_ = ax.set_ylabel(\"Count\", fontsize=16)\n",
    "\n",
    "ax=axes[\"A\"]\n",
    "# create an Axes on the right side of ax. The width of cax will be 5%\n",
    "# of ax and the padding between cax and ax will be fixed at 0.05 inch.\n",
    "divider = make_axes_locatable(ax)\n",
    "cax = divider.append_axes(\"left\", size=\"5%\", pad=0.05)\n",
    "fig.colorbar(mpl.cm.ScalarMappable(cmap=cmap), cax=cax)\n",
    "cax.set_ylabel(\"Edge betweenness\", fontsize=16)\n",
    "cax.yaxis.set_label_position(\"left\")\n",
    "cax.yaxis.set_ticks_position(\"left\")"
   ]
  },
  {
   "cell_type": "markdown",
   "id": "ad06c628-a4c1-418b-9f55-cca790620f6c",
   "metadata": {},
   "source": [
    "## Homework\n",
    "\n",
    "1. Go through this notebook at your own pace. Play with the code (especially in parts which are confusing), by changing some parameters and observing\n",
    "   changes in the results. This is a very good way of developing an intuitive understanding of software systems.\n",
    "2. Read the official `igraph` [tutorial](https://python.igraph.org/en/stable/tutorial.html).\n",
    "It is also recommended to take a look at some examples from the [gallery](https://python.igraph.org/en/stable/tutorials/index.html).\n",
    "3. Read chapters 4 and 5 and sections 6.1-6.4, 6.8-6.12 from _Networks_ by M. Newman."
   ]
  },
  {
   "cell_type": "code",
   "execution_count": null,
   "id": "323d4c05-9abb-4716-aad2-4e248dc601fa",
   "metadata": {},
   "outputs": [],
   "source": []
  }
 ],
 "metadata": {
  "kernelspec": {
   "display_name": "Python 3 (ipykernel)",
   "language": "python",
   "name": "python3"
  },
  "language_info": {
   "codemirror_mode": {
    "name": "ipython",
    "version": 3
   },
   "file_extension": ".py",
   "mimetype": "text/x-python",
   "name": "python",
   "nbconvert_exporter": "python",
   "pygments_lexer": "ipython3",
   "version": "3.10.9"
  }
 },
 "nbformat": 4,
 "nbformat_minor": 5
}
